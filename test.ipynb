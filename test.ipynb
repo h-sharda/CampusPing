{
 "cells": [
  {
   "cell_type": "code",
   "execution_count": 1,
   "metadata": {},
   "outputs": [],
   "source": [
    "import requests\n",
    "from bs4 import BeautifulSoup\n",
    "import pandas as pd\n",
    "import os"
   ]
  },
  {
   "cell_type": "code",
   "execution_count": 2,
   "metadata": {},
   "outputs": [],
   "source": [
    "url = 'https://www.imsnsit.org/imsnsit/notifications.php'\n",
    "response = requests.get(url)\n",
    "soup = BeautifulSoup(response.content, 'html.parser')\n"
   ]
  },
  {
   "cell_type": "code",
   "execution_count": 3,
   "metadata": {},
   "outputs": [],
   "source": [
    "# Define a function to filter tr elements\n",
    "def is_target_tr(tag):\n",
    "    if tag.name != 'tr':\n",
    "        return False\n",
    "    # Check if the tr contains the specified structure\n",
    "    first_td = tag.find('td', nowrap=True)\n",
    "    second_td = tag.find('td', class_='list-data-focus')\n",
    "    if first_td and second_td:\n",
    "        font_tag = first_td.find('font', size='3')\n",
    "        img_tag = first_td.find('img', src='images/newicon.gif')\n",
    "        a_tag = second_td.find('a', href=True, title=\"NOTICES / CIRCULARS\")\n",
    "        font_tag_2 = a_tag.find('font', size='3') if a_tag else None\n",
    "        return font_tag and img_tag and a_tag and font_tag_2\n",
    "    return False\n"
   ]
  },
  {
   "cell_type": "code",
   "execution_count": 4,
   "metadata": {},
   "outputs": [],
   "source": [
    "# Find all target tr elements\n",
    "target_trs = soup.find_all(is_target_tr)\n"
   ]
  },
  {
   "cell_type": "code",
   "execution_count": 5,
   "metadata": {},
   "outputs": [],
   "source": [
    "def create_csv_and_append_row(user_data):\n",
    "    \"\"\"\n",
    "    Creates a new CSV file with specified columns if it doesn't exist and appends a new row.\n",
    "    \n",
    "    Args:\n",
    "    filename (str): The name of the CSV file.\n",
    "    user_data (list): A list containing data to append to the CSV.\n",
    "    \"\"\"\n",
    "    # Define name of CSV file\n",
    "    filename = \"notice.csv\"\n",
    "\n",
    "    # Define column names\n",
    "    columns = ['Date', 'Title', 'Publisher_info', 'pdf_link']\n",
    "    \n",
    "    # Check if the CSV file exists\n",
    "    if not os.path.isfile(filename):\n",
    "        # Create a DataFrame with the specified columns\n",
    "        df = pd.DataFrame(columns=columns)\n",
    "        # Save the DataFrame to a CSV file\n",
    "        df.to_csv(filename, index=False, encoding='utf-8')\n",
    "        print(f\"{filename} has been created with columns: {', '.join(columns)}\")\n",
    "    \n",
    "    # Load the existing CSV file\n",
    "    df = pd.read_csv(filename)\n",
    "    \n",
    "    # Create a DataFrame for the new row\n",
    "    new_row = pd.DataFrame([user_data], columns=columns)\n",
    "    \n",
    "    # Append new row using pd.concat\n",
    "    df = pd.concat([df, new_row], ignore_index=True)\n",
    "    \n",
    "    # Save the updated DataFrame to the CSV file\n",
    "    df.to_csv(filename, index=False, encoding='utf-8')\n",
    "   \n"
   ]
  },
  {
   "cell_type": "code",
   "execution_count": 6,
   "metadata": {},
   "outputs": [
    {
     "name": "stdout",
     "output_type": "stream",
     "text": [
      "notice.csv has been created with columns: Date, Title, Publisher_info, pdf_link\n"
     ]
    }
   ],
   "source": [
    "for tr in target_trs:\n",
    "    row = []\n",
    "    # Date\n",
    "    date = tr.find('td').get_text(strip=True)\n",
    "    row.append(date)\n",
    "\n",
    "    # Title\n",
    "    notice_title = tr.find('a').get_text(strip=True)\n",
    "    row.append(notice_title)\n",
    "\n",
    "    # Publisher info\n",
    "    publisher_info = tr.find('b').get_text(strip=True).replace(\"Published By:  \", \"\")\n",
    "    # publisher_info = [part.strip() for part in publisher_info.split(',')]\n",
    "    row.append(publisher_info)\n",
    "\n",
    "    # pdf link\n",
    "    link = tr.find('a')['href']\n",
    "    row.append(link)\n",
    "\n",
    "    create_csv_and_append_row(row)"
   ]
  },
  {
   "cell_type": "code",
   "execution_count": null,
   "metadata": {},
   "outputs": [],
   "source": []
  }
 ],
 "metadata": {
  "kernelspec": {
   "display_name": "Python 3",
   "language": "python",
   "name": "python3"
  },
  "language_info": {
   "codemirror_mode": {
    "name": "ipython",
    "version": 3
   },
   "file_extension": ".py",
   "mimetype": "text/x-python",
   "name": "python",
   "nbconvert_exporter": "python",
   "pygments_lexer": "ipython3",
   "version": "3.12.4"
  }
 },
 "nbformat": 4,
 "nbformat_minor": 2
}
