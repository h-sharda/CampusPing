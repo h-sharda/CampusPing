{
 "cells": [
  {
   "cell_type": "code",
   "execution_count": 2,
   "metadata": {},
   "outputs": [],
   "source": [
    "import requests\n",
    "from bs4 import BeautifulSoup"
   ]
  },
  {
   "cell_type": "code",
   "execution_count": 3,
   "metadata": {},
   "outputs": [],
   "source": [
    "url = 'https://www.imsnsit.org/imsnsit/notifications.php'\n",
    "response = requests.get(url)\n",
    "soup = BeautifulSoup(response.content, 'html.parser')\n"
   ]
  },
  {
   "cell_type": "code",
   "execution_count": 18,
   "metadata": {},
   "outputs": [
    {
     "name": "stdout",
     "output_type": "stream",
     "text": [
      "<class 'bs4.element.ResultSet'>\n"
     ]
    }
   ],
   "source": [
    "arr = [link.get('href') for link in soup.find_all('a')]\n",
    "# print(type(soup.find_all('a')))"
   ]
  },
  {
   "cell_type": "code",
   "execution_count": 17,
   "metadata": {},
   "outputs": [
    {
     "name": "stdout",
     "output_type": "stream",
     "text": [
      "<class 'str'>\n"
     ]
    }
   ],
   "source": [
    "for link in arr:\n",
    "    print(link)\n",
    "    break"
   ]
  },
  {
   "cell_type": "code",
   "execution_count": 16,
   "metadata": {},
   "outputs": [
    {
     "name": "stdout",
     "output_type": "stream",
     "text": [
      "<class 'str'>\n"
     ]
    }
   ],
   "source": [
    "print((soup.get_text()))"
   ]
  },
  {
   "cell_type": "code",
   "execution_count": 51,
   "metadata": {},
   "outputs": [],
   "source": [
    "tag = soup.b"
   ]
  },
  {
   "cell_type": "code",
   "execution_count": 66,
   "metadata": {},
   "outputs": [
    {
     "name": "stdout",
     "output_type": "stream",
     "text": [
      "<style>\n",
      "\ttd{padding-left:5px;font-size:13px;}\n",
      "\ttd input,textarea{padding:0 5px;}\n",
      "\ttd select{width:100px;padding:5px;}\n",
      "\ttd input[type='submit']{border:1px solid #f1f1f1;border-radius:0px;font-size:15px;cursor:pointer;}\n",
      "\ttd input[type='text'],[type='email']{padding:5px;}\n",
      "\tbutton {\n",
      "\t\tbackground-color: greay; /* Green */\n",
      "\t\tborder: none;\n",
      "\t\tcolor: black;\n",
      "\t\ttext-align: center;\n",
      "\t\ttext-decoration: none;\n",
      "\t\tdisplay: inline-block;\n",
      "\t\tfont-size: 16px;\n",
      "\t\tmargin: 4px 2px;\n",
      "\t\tcursor: pointer;\n",
      "\t}\n",
      "\t</style>\n"
     ]
    }
   ],
   "source": [
    "print(soup.style)\n",
    "# tag['']"
   ]
  },
  {
   "cell_type": "code",
   "execution_count": null,
   "metadata": {},
   "outputs": [],
   "source": []
  }
 ],
 "metadata": {
  "kernelspec": {
   "display_name": "Python 3",
   "language": "python",
   "name": "python3"
  },
  "language_info": {
   "codemirror_mode": {
    "name": "ipython",
    "version": 3
   },
   "file_extension": ".py",
   "mimetype": "text/x-python",
   "name": "python",
   "nbconvert_exporter": "python",
   "pygments_lexer": "ipython3",
   "version": "3.12.4"
  }
 },
 "nbformat": 4,
 "nbformat_minor": 2
}
