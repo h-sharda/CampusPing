{
 "cells": [
  {
   "cell_type": "code",
   "execution_count": 1,
   "metadata": {},
   "outputs": [],
   "source": [
    "https://www.imsnsit.org/imsnsit/plum_url.php?7XIrDH9zYseH8MR8YQn2JMJGPPPDbDgvdjbocRSYzTVLHC/l+ruw1T/MJDKcvhCxRPQ+IeWbqs9rfvp4LsMLuyh+ivyBvITrf07IKV5CehkUNO081JBZWMMdT7sOaond+WB7XReyWO/yF1I30aF/ULRTR0mMgiQVMZIxtwLYQrXl4iof5L0As6vdlPc31TR83B7Fm11t7I2VmTrtCkLdhg=="
   ]
  },
  {
   "cell_type": "code",
   "execution_count": null,
   "metadata": {},
   "outputs": [],
   "source": [
    "https://www.imsnsit.org/imsnsit/plum_url.php?qk7KimXU2qKPhxcpfYe8u0eo5n+rr8EW31QAO9Nu+VdHFCsAtZ2EZ7BZp1c/v3JOIYs5yY9zWzEU5nSLL7UyjL4GfRnoYkhSk34aJCNpMmAsAQmCGVODqTnV/SZa/MBGMX4WlWbi1fT1Zot3wsj35oPsFo1E4SJbPP5oLTXmkADXR3D7bjcLMlFwIuj1/eVUpuH1RyZssbqvtSKccATy0g=="
   ]
  }
 ],
 "metadata": {
  "kernelspec": {
   "display_name": "Python 3",
   "language": "python",
   "name": "python3"
  },
  "language_info": {
   "codemirror_mode": {
    "name": "ipython",
    "version": 3
   },
   "file_extension": ".py",
   "mimetype": "text/x-python",
   "name": "python",
   "nbconvert_exporter": "python",
   "pygments_lexer": "ipython3",
   "version": "3.12.4"
  }
 },
 "nbformat": 4,
 "nbformat_minor": 2
}
